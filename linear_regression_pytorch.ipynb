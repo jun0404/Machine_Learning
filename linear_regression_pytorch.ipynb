{
 "cells": [
  {
   "cell_type": "markdown",
   "metadata": {},
   "source": [
    "## Introduction to Machine Learning Implementation with PyTorch\n",
    "\n",
    "*Most of the basic ideas are from [모두를 위한 머신러닝/딥러닝 강의](http://hunkim.github.io/ml/). All implementations posted can only be used for educational purposes with references to the original author, Sangjun Park. MS, Korea University, College of Medicine*"
   ]
  },
  {
   "cell_type": "markdown",
   "metadata": {},
   "source": [
    "### Brief overview of PyTorch\n",
    "\n",
    "PyTorch is an open-source python package explicitly developed for advanced research and application on deep learning. Pros when compared to Tensorflow are wide accessibility, intuitiveness of design, and __extreme dynamicity__ (which is the most fundamental difference between the two modules) when dealing with computation graphs. The only disadvantage regarding PyTorch is that compared to its superiority, it is still relatively a more recent product than Tensorflow, which makes it harder to gain much attention in most corporate settings. However, it is certain that the current paradigm is being shifted towards what we will discuss further, as more and more researchers are applying PyTorch as the main source of their works."
   ]
  },
  {
   "cell_type": "markdown",
   "metadata": {},
   "source": [
    "Installation, basic concepts and syntax documentations can be found at the [official pytorch website](https://pytorch.org/)."
   ]
  },
  {
   "cell_type": "markdown",
   "metadata": {},
   "source": [
    "### Linear Regression\n",
    "\n",
    "#### Single-variable Linear Regression\n",
    "\n",
    "The mathematical model for single-variable linear regression is as follows.\n",
    "\n",
    "$$y = \\beta_{0} + \\beta_{1}x$$\n",
    "\n",
    "We call $\\beta_{1}$ as the regression coefficient or the slope, and $\\beta_{0}$ as the intercept. This model is also called simple linear regression."
   ]
  },
  {
   "cell_type": "markdown",
   "metadata": {},
   "source": [
    "Let us first examine the exact solution using the least squares method. The method of least squares states that the sum of squares between the actual value and the fitted value, should be minimum. Using formal notations, minimization of $$(\\underset{\\text{Fitted value}}{\\hat{y}} - \\underset{\\text{Actual value}}{y})^2$$ is the goal of this model."
   ]
  },
  {
   "cell_type": "markdown",
   "metadata": {},
   "source": [
    "The exact solution to this problem is the following whose derivations will be omitted. \n",
    "\n",
    "$$\n",
    "\\beta_{1} = \\frac{\\sum_{i=1}^{n}(x_{i} - \\bar{x})(y_{i} - \\bar{y})}{\\sum_{i=1}^{n}(x_{i} - \\bar{x})^{2}} \n",
    "\\; \\text{($\\bar{x}$ and $\\bar{y}$ are the mean values of x and y)}\n",
    "$$\n",
    ".l\n",
    "$$\n",
    "\\beta_{0} = \\bar{y} - \\beta_{1}\\bar{x}\n",
    "$$"
   ]
  },
  {
   "cell_type": "markdown",
   "metadata": {},
   "source": [
    "For this example, we will use the following data. $$x = \\begin{bmatrix}1.05&1.54&2.01&2.55&3.13&3.45&4.02&4.65&5.34&5.50\\end{bmatrix}^{T}$$ $$y = \\begin{bmatrix}10.3&15.4&21.2&25.4&30.1&35.6&40.5&43.4&50.1&56.6\\end{bmatrix}^{T}$$"
   ]
  },
  {
   "cell_type": "code",
   "execution_count": 33,
   "metadata": {},
   "outputs": [
    {
     "name": "stdout",
     "output_type": "stream",
     "text": [
      "0.7824239351471718 9.650293641652478\n"
     ]
    },
    {
     "data": {
      "text/plain": [
       "Text(4, 30, '$y = 0.78 + 9.65x$')"
      ]
     },
     "execution_count": 33,
     "metadata": {},
     "output_type": "execute_result"
    },
    {
     "data": {
      "image/png": "[encoded data removed]",
      "text/plain": [
       "<Figure size 432x288 with 1 Axes>"
      ]
     },
     "metadata": {
      "needs_background": "light"
     },
     "output_type": "display_data"
    }
   ],
   "source": [
    "import numpy as np\n",
    "import matplotlib.pyplot as plt\n",
    "\n",
    "x = np.array([1.05, 1.54, 2.01, 2.55, 3.13, 3.45, 4.02, 4.65, 5.34, 5.50])\n",
    "y = np.array([10.3, 15.4, 21.2, 25.4, 30.1, 35.6, 40.5, 43.4, 50.1, 56.6])\n",
    "\n",
    "b1 = np.sum((x - np.mean(x)) * (y - np.mean(y))) / np.sum((x - np.mean(x))**2)\n",
    "b0 = np.mean(y) - b1 * np.mean(x)\n",
    "\n",
    "x_range = np.linspace(0.5, 6.0, 1000)\n",
    "y_hat = b0 + b1 * x_range\n",
    "\n",
    "print(b0, b1)\n",
    "\n",
    "plt.scatter(x, y)\n",
    "plt.plot(x_range, y_hat, 'r')\n",
    "plt.text(4, 30, \"$y = 0.78 + 9.65x$\")"
   ]
  },
  {
   "cell_type": "markdown",
   "metadata": {},
   "source": [
    "Next, let's use the gradient descent method using PyTorch."
   ]
  },
  {
   "cell_type": "code",
   "execution_count": 119,
   "metadata": {},
   "outputs": [],
   "source": [
    "import torch\n",
    "from torch.autograd import Variable\n",
    "\n",
    "class linearRegression(torch.nn.Module):\n",
    "    def __init__(self, inputSize, outputSize):\n",
    "        super(linearRegression, self).__init__()\n",
    "        self.linear = torch.nn.Linear(inputSize, outputSize, bias = True)\n",
    "\n",
    "    def forward(self, x):\n",
    "        out = self.linear(x)\n",
    "        return out\n",
    "    \n",
    "inputDim = 1\n",
    "outputDim = 1\n",
    "learningRate = 0.001 \n",
    "epochs = 10000\n",
    "\n",
    "model = linearRegression(inputDim, outputDim)\n",
    "criterion = torch.nn.MSELoss() \n",
    "optimizer = torch.optim.SGD(model.parameters(), lr=learningRate)\n",
    "\n",
    "x_torch = torch.from_numpy(x).float().unsqueeze(dim=1)\n",
    "y_torch = torch.from_numpy(y).float().unsqueeze(dim=1)\n",
    "\n",
    "epoch_graph = np.array([])\n",
    "loss_graph = np.array([])\n",
    "\n",
    "for epoch in range(epochs):\n",
    "    \n",
    "    inputs = x_torch\n",
    "    labels = y_torch\n",
    "\n",
    "    # Clear gradient buffers because we don't want any gradient from previous epoch to carry forward, dont want to cumulate gradients\n",
    "    optimizer.zero_grad()\n",
    "\n",
    "    # get output from the model with given inputs\n",
    "    outputs = model(inputs)\n",
    "\n",
    "    # get loss for the predicted output\n",
    "    loss = criterion(outputs, labels)\n",
    "    \n",
    "    # get gradients with respect to parameters\n",
    "    loss.backward()\n",
    "\n",
    "    # update parameters\n",
    "    optimizer.step()\n",
    "\n",
    "    epoch_graph = np.append(epoch_graph, epoch)\n",
    "    loss_graph = np.append(loss_graph, loss.item())"
   ]
  },
  {
   "cell_type": "code",
   "execution_count": 115,
   "metadata": {
    "scrolled": true
   },
   "outputs": [
    {
     "data": {
      "text/plain": [
       "Text(0, 0.5, 'Loss in Log scale')"
      ]
     },
     "execution_count": 115,
     "metadata": {},
     "output_type": "execute_result"
    },
    {
     "data": {
      "image/png": "[encoded data removed]",
      "text/plain": [
       "<Figure size 432x288 with 1 Axes>"
      ]
     },
     "metadata": {
      "needs_background": "light"
     },
     "output_type": "display_data"
    }
   ],
   "source": [
    "plt.loglog(epoch_graph, loss_graph)\n",
    "plt.xlabel('Epoch in Log scale')\n",
    "plt.ylabel('Loss in Log scale')"
   ]
  },
  {
   "cell_type": "code",
   "execution_count": 116,
   "metadata": {
    "scrolled": true
   },
   "outputs": [
    {
     "name": "stdout",
     "output_type": "stream",
     "text": [
      "Parameter containing:\n",
      "tensor([[9.6200]], requires_grad=True)\n",
      "Parameter containing:\n",
      "tensor([0.9013], requires_grad=True)\n"
     ]
    }
   ],
   "source": [
    "for param in model.parameters():\n",
    "    print(param)"
   ]
  },
  {
   "cell_type": "code",
   "execution_count": 117,
   "metadata": {},
   "outputs": [
    {
     "data": {
      "text/plain": [
       "Text(4, 30, '$y=0.9013+9.6200x$')"
      ]
     },
     "execution_count": 117,
     "metadata": {},
     "output_type": "execute_result"
    },
    {
     "data": {
      "image/png": "[encoded data removed]",
      "text/plain": [
       "<Figure size 432x288 with 1 Axes>"
      ]
     },
     "metadata": {
      "needs_background": "light"
     },
     "output_type": "display_data"
    }
   ],
   "source": [
    "x_range2 = np.linspace(0.5, 5.5, 10)\n",
    "y_hat2 = model(torch.from_numpy(x_range2).float().unsqueeze(dim=1))\n",
    "plt.scatter(x, y)\n",
    "plt.plot(x_range2, y_hat2.detach().numpy(), 'r')\n",
    "plt.text(4, 30, \"$y=0.9013+9.6200x$\")"
   ]
  },
  {
   "cell_type": "code",
   "execution_count": null,
   "metadata": {},
   "outputs": [],
   "source": []
  }
 ],
 "metadata": {
  "kernelspec": {
   "display_name": "Python 3",
   "language": "python",
   "name": "python3"
  },
  "language_info": {
   "codemirror_mode": {
    "name": "ipython",
    "version": 3
   },
   "file_extension": ".py",
   "mimetype": "text/x-python",
   "name": "python",
   "nbconvert_exporter": "python",
   "pygments_lexer": "ipython3",
   "version": "3.8.3"
  }
 },
 "nbformat": 4,
 "nbformat_minor": 4
}
